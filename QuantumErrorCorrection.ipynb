{
  "nbformat": 4,
  "nbformat_minor": 0,
  "metadata": {
    "colab": {
      "provenance": []
    },
    "kernelspec": {
      "name": "python3",
      "display_name": "Python 3"
    },
    "language_info": {
      "name": "python"
    }
  },
  "cells": [
    {
      "cell_type": "markdown",
      "source": [
        "# **Proyecto Teoría de Códigos:** Quantum Error Correction\n",
        "**Sergio Quiroga Sandoval, Juan Antonio Rodríguez, Manuel Valle Amortegui \\\n",
        "squirogas@unal.edu.co, jrodriguezru@unal.edu.co, mvalle@unal.edu.co\\\n",
        "Universidad Nacional de Colombia**\n",
        "\n",
        "\n",
        "El objetivo de este cuaderno es implementar el código de bit flip y de Phase flip para entender y visualizar su funcionamiento.\n",
        "\n"
      ],
      "metadata": {
        "id": "g8TZNPOM6Bgf"
      }
    },
    {
      "cell_type": "markdown",
      "source": [
        "## Algoritmo\n",
        "Bit Flip Code"
      ],
      "metadata": {
        "id": "RM8zTpjq5M7e"
      }
    },
    {
      "cell_type": "code",
      "source": [
        "!pip install qiskit"
      ],
      "metadata": {
        "colab": {
          "base_uri": "https://localhost:8080/"
        },
        "id": "W9HHHdzswB9j",
        "outputId": "63b037e3-c7b2-45fb-e229-b968d01bd0f6"
      },
      "execution_count": null,
      "outputs": [
        {
          "output_type": "stream",
          "name": "stdout",
          "text": [
            "Collecting qiskit\n",
            "  Downloading qiskit-1.2.0-cp38-abi3-manylinux_2_17_x86_64.manylinux2014_x86_64.whl.metadata (12 kB)\n",
            "Collecting rustworkx>=0.15.0 (from qiskit)\n",
            "  Downloading rustworkx-0.15.1-cp38-abi3-manylinux_2_17_x86_64.manylinux2014_x86_64.whl.metadata (9.9 kB)\n",
            "Requirement already satisfied: numpy<3,>=1.17 in /usr/local/lib/python3.10/dist-packages (from qiskit) (1.26.4)\n",
            "Requirement already satisfied: scipy>=1.5 in /usr/local/lib/python3.10/dist-packages (from qiskit) (1.13.1)\n",
            "Requirement already satisfied: sympy>=1.3 in /usr/local/lib/python3.10/dist-packages (from qiskit) (1.13.2)\n",
            "Collecting dill>=0.3 (from qiskit)\n",
            "  Downloading dill-0.3.8-py3-none-any.whl.metadata (10 kB)\n",
            "Requirement already satisfied: python-dateutil>=2.8.0 in /usr/local/lib/python3.10/dist-packages (from qiskit) (2.8.2)\n",
            "Collecting stevedore>=3.0.0 (from qiskit)\n",
            "  Downloading stevedore-5.3.0-py3-none-any.whl.metadata (2.3 kB)\n",
            "Requirement already satisfied: typing-extensions in /usr/local/lib/python3.10/dist-packages (from qiskit) (4.12.2)\n",
            "Collecting symengine>=0.11 (from qiskit)\n",
            "  Downloading symengine-0.11.0-cp310-cp310-manylinux_2_12_x86_64.manylinux2010_x86_64.whl.metadata (1.2 kB)\n",
            "Requirement already satisfied: six>=1.5 in /usr/local/lib/python3.10/dist-packages (from python-dateutil>=2.8.0->qiskit) (1.16.0)\n",
            "Collecting pbr>=2.0.0 (from stevedore>=3.0.0->qiskit)\n",
            "  Downloading pbr-6.1.0-py2.py3-none-any.whl.metadata (3.4 kB)\n",
            "Requirement already satisfied: mpmath<1.4,>=1.1.0 in /usr/local/lib/python3.10/dist-packages (from sympy>=1.3->qiskit) (1.3.0)\n",
            "Downloading qiskit-1.2.0-cp38-abi3-manylinux_2_17_x86_64.manylinux2014_x86_64.whl (4.8 MB)\n",
            "\u001b[2K   \u001b[90m━━━━━━━━━━━━━━━━━━━━━━━━━━━━━━━━━━━━━━━━\u001b[0m \u001b[32m4.8/4.8 MB\u001b[0m \u001b[31m32.3 MB/s\u001b[0m eta \u001b[36m0:00:00\u001b[0m\n",
            "\u001b[?25hDownloading dill-0.3.8-py3-none-any.whl (116 kB)\n",
            "\u001b[2K   \u001b[90m━━━━━━━━━━━━━━━━━━━━━━━━━━━━━━━━━━━━━━━━\u001b[0m \u001b[32m116.3/116.3 kB\u001b[0m \u001b[31m6.5 MB/s\u001b[0m eta \u001b[36m0:00:00\u001b[0m\n",
            "\u001b[?25hDownloading rustworkx-0.15.1-cp38-abi3-manylinux_2_17_x86_64.manylinux2014_x86_64.whl (2.0 MB)\n",
            "\u001b[2K   \u001b[90m━━━━━━━━━━━━━━━━━━━━━━━━━━━━━━━━━━━━━━━━\u001b[0m \u001b[32m2.0/2.0 MB\u001b[0m \u001b[31m45.6 MB/s\u001b[0m eta \u001b[36m0:00:00\u001b[0m\n",
            "\u001b[?25hDownloading stevedore-5.3.0-py3-none-any.whl (49 kB)\n",
            "\u001b[2K   \u001b[90m━━━━━━━━━━━━━━━━━━━━━━━━━━━━━━━━━━━━━━━━\u001b[0m \u001b[32m49.7/49.7 kB\u001b[0m \u001b[31m2.7 MB/s\u001b[0m eta \u001b[36m0:00:00\u001b[0m\n",
            "\u001b[?25hDownloading symengine-0.11.0-cp310-cp310-manylinux_2_12_x86_64.manylinux2010_x86_64.whl (39.4 MB)\n",
            "\u001b[2K   \u001b[90m━━━━━━━━━━━━━━━━━━━━━━━━━━━━━━━━━━━━━━━━\u001b[0m \u001b[32m39.4/39.4 MB\u001b[0m \u001b[31m17.5 MB/s\u001b[0m eta \u001b[36m0:00:00\u001b[0m\n",
            "\u001b[?25hDownloading pbr-6.1.0-py2.py3-none-any.whl (108 kB)\n",
            "\u001b[2K   \u001b[90m━━━━━━━━━━━━━━━━━━━━━━━━━━━━━━━━━━━━━━━━\u001b[0m \u001b[32m108.5/108.5 kB\u001b[0m \u001b[31m5.6 MB/s\u001b[0m eta \u001b[36m0:00:00\u001b[0m\n",
            "\u001b[?25hInstalling collected packages: symengine, rustworkx, pbr, dill, stevedore, qiskit\n",
            "Successfully installed dill-0.3.8 pbr-6.1.0 qiskit-1.2.0 rustworkx-0.15.1 stevedore-5.3.0 symengine-0.11.0\n"
          ]
        }
      ]
    },
    {
      "cell_type": "code",
      "source": [
        "!pip install qiskit-aer"
      ],
      "metadata": {
        "colab": {
          "base_uri": "https://localhost:8080/"
        },
        "id": "OmJmvkiY8kcy",
        "outputId": "a9ae961b-2689-42a4-b258-a53509c61158"
      },
      "execution_count": null,
      "outputs": [
        {
          "output_type": "stream",
          "name": "stdout",
          "text": [
            "Collecting qiskit-aer\n",
            "  Downloading qiskit_aer-0.15.0-cp310-cp310-manylinux_2_17_x86_64.manylinux2014_x86_64.whl.metadata (8.0 kB)\n",
            "Requirement already satisfied: qiskit>=1.1.0 in /usr/local/lib/python3.10/dist-packages (from qiskit-aer) (1.2.0)\n",
            "Requirement already satisfied: numpy>=1.16.3 in /usr/local/lib/python3.10/dist-packages (from qiskit-aer) (1.26.4)\n",
            "Requirement already satisfied: scipy>=1.0 in /usr/local/lib/python3.10/dist-packages (from qiskit-aer) (1.13.1)\n",
            "Requirement already satisfied: psutil>=5 in /usr/local/lib/python3.10/dist-packages (from qiskit-aer) (5.9.5)\n",
            "Requirement already satisfied: rustworkx>=0.15.0 in /usr/local/lib/python3.10/dist-packages (from qiskit>=1.1.0->qiskit-aer) (0.15.1)\n",
            "Requirement already satisfied: sympy>=1.3 in /usr/local/lib/python3.10/dist-packages (from qiskit>=1.1.0->qiskit-aer) (1.13.2)\n",
            "Requirement already satisfied: dill>=0.3 in /usr/local/lib/python3.10/dist-packages (from qiskit>=1.1.0->qiskit-aer) (0.3.8)\n",
            "Requirement already satisfied: python-dateutil>=2.8.0 in /usr/local/lib/python3.10/dist-packages (from qiskit>=1.1.0->qiskit-aer) (2.8.2)\n",
            "Requirement already satisfied: stevedore>=3.0.0 in /usr/local/lib/python3.10/dist-packages (from qiskit>=1.1.0->qiskit-aer) (5.3.0)\n",
            "Requirement already satisfied: typing-extensions in /usr/local/lib/python3.10/dist-packages (from qiskit>=1.1.0->qiskit-aer) (4.12.2)\n",
            "Requirement already satisfied: symengine>=0.11 in /usr/local/lib/python3.10/dist-packages (from qiskit>=1.1.0->qiskit-aer) (0.11.0)\n",
            "Requirement already satisfied: six>=1.5 in /usr/local/lib/python3.10/dist-packages (from python-dateutil>=2.8.0->qiskit>=1.1.0->qiskit-aer) (1.16.0)\n",
            "Requirement already satisfied: pbr>=2.0.0 in /usr/local/lib/python3.10/dist-packages (from stevedore>=3.0.0->qiskit>=1.1.0->qiskit-aer) (6.1.0)\n",
            "Requirement already satisfied: mpmath<1.4,>=1.1.0 in /usr/local/lib/python3.10/dist-packages (from sympy>=1.3->qiskit>=1.1.0->qiskit-aer) (1.3.0)\n",
            "Downloading qiskit_aer-0.15.0-cp310-cp310-manylinux_2_17_x86_64.manylinux2014_x86_64.whl (12.3 MB)\n",
            "\u001b[2K   \u001b[90m━━━━━━━━━━━━━━━━━━━━━━━━━━━━━━━━━━━━━━━━\u001b[0m \u001b[32m12.3/12.3 MB\u001b[0m \u001b[31m79.9 MB/s\u001b[0m eta \u001b[36m0:00:00\u001b[0m\n",
            "\u001b[?25hInstalling collected packages: qiskit-aer\n",
            "Successfully installed qiskit-aer-0.15.0\n"
          ]
        }
      ]
    },
    {
      "cell_type": "code",
      "source": [
        "from qiskit import QuantumRegister\n",
        "from qiskit_aer import AerSimulator\n",
        "from qiskit import QuantumRegister, ClassicalRegister\n",
        "from qiskit import QuantumCircuit, transpile\n",
        "\n",
        "print('\\nBit Flip Code')\n",
        "print('----------------')\n",
        "\n",
        "def bit_flip_code(n= 0, e=0):\n",
        "    # Simulador\n",
        "    simulator = AerSimulator()\n",
        "\n",
        "    q = QuantumRegister(3,'q')\n",
        "    c = ClassicalRegister(1,'c')\n",
        "\n",
        "    circuit = QuantumCircuit(q,c)\n",
        "\n",
        "    # condicional para iniciar el primer qubit en |1>\n",
        "    if n == 1:\n",
        "      circuit.x(q[0])\n",
        "\n",
        "    circuit.cx(q[0],q[1])\n",
        "    circuit.cx(q[0],q[2])\n",
        "    if e == 1:\n",
        "      circuit.x(q[0])      # Se introduce un error de bit flip.\n",
        "    circuit.cx(q[0],q[1])\n",
        "    circuit.cx(q[0],q[2])\n",
        "    circuit.ccx(q[2],q[1],q[0])\n",
        "    circuit.measure(q[0],c[0])\n",
        "\n",
        "    job = compiled_circuit = transpile(circuit, simulator)\n",
        "    sim_result = simulator.run(compiled_circuit).result()\n",
        "    counts = sim_result.get_counts()\n",
        "\n",
        "    if e == 1:\n",
        "      print(\"\\nBit flip code with error\")\n",
        "    else:\n",
        "      print(\"\\nBit flip code without error\")\n",
        "    print(\"----------------------\")\n",
        "    print(counts)\n",
        "\n",
        "print(\"With initial state |1>\")\n",
        "bit_flip_code(1,1) # con error\n",
        "bit_flip_code(1,0) # sin error\n",
        "\n",
        "print(\"\\nWith initial state |0>\")\n",
        "bit_flip_code(0,1) # con error\n",
        "bit_flip_code(0,0) # sin error"
      ],
      "metadata": {
        "colab": {
          "base_uri": "https://localhost:8080/"
        },
        "id": "hq_p-VDB3EZA",
        "outputId": "34b18ed4-8be4-4d3d-d431-2e760db06068"
      },
      "execution_count": null,
      "outputs": [
        {
          "output_type": "stream",
          "name": "stdout",
          "text": [
            "\n",
            "Bit Flip Code\n",
            "----------------\n",
            "With initial state |1>\n",
            "\n",
            "Bit flip code with error\n",
            "----------------------\n",
            "{'1': 1024}\n",
            "\n",
            "Bit flip code without error\n",
            "----------------------\n",
            "{'1': 1024}\n",
            "\n",
            "With initial state |0>\n",
            "\n",
            "Bit flip code with error\n",
            "----------------------\n",
            "{'0': 1024}\n",
            "\n",
            "Bit flip code without error\n",
            "----------------------\n",
            "{'0': 1024}\n"
          ]
        }
      ]
    },
    {
      "cell_type": "code",
      "source": [
        "from qiskit import QuantumRegister\n",
        "from qiskit_aer import AerSimulator\n",
        "from qiskit import QuantumRegister, ClassicalRegister\n",
        "from qiskit import QuantumCircuit, transpile\n",
        "\n",
        "print('\\n Phase Flip Code')\n",
        "print('----------------')\n",
        "\n",
        "def phase_flip_code(n= 0, e=0):\n",
        "    # Simulador\n",
        "    simulator = AerSimulator()\n",
        "\n",
        "    q = QuantumRegister(3,'q')\n",
        "    c = ClassicalRegister(1,'c')\n",
        "\n",
        "    circuit = QuantumCircuit(q,c)\n",
        "\n",
        "    # condicional para iniciar el primer qubit en |1>\n",
        "    if n == 1:\n",
        "      circuit.x(q[0])\n",
        "\n",
        "    circuit.cx(q[0],q[1])\n",
        "    circuit.cx(q[0],q[2])\n",
        "\n",
        "    circuit.h(q[0])\n",
        "    circuit.h(q[1])\n",
        "    circuit.h(q[2])\n",
        "    if e == 1:\n",
        "      circuit.z(q[0])   # Se introduce un error de phase flip.\n",
        "    circuit.h(q[0])\n",
        "    circuit.h(q[1])\n",
        "    circuit.h(q[2])\n",
        "\n",
        "    circuit.cx(q[0],q[1])\n",
        "    circuit.cx(q[0],q[2])\n",
        "    circuit.ccx(q[2],q[1],q[0])\n",
        "    circuit.measure(q[0],c[0])\n",
        "\n",
        "    job = compiled_circuit = transpile(circuit, simulator)\n",
        "    sim_result = simulator.run(compiled_circuit).result()\n",
        "    counts = sim_result.get_counts()\n",
        "    if e == 1:\n",
        "      print(\"\\nPhase flip code with error\")\n",
        "    else:\n",
        "      print(\"\\nPhase flip code without error\")\n",
        "    print(\"----------------------\")\n",
        "    print(counts)\n",
        "\n",
        "print(\"With initial state |1>\")\n",
        "phase_flip_code(1,1) # con error\n",
        "phase_flip_code(1,0) # sin error\n",
        "\n",
        "print(\"\\nWith initial state |0>\")\n",
        "phase_flip_code(0,1) # con error\n",
        "phase_flip_code(0,0) # sin error"
      ],
      "metadata": {
        "colab": {
          "base_uri": "https://localhost:8080/"
        },
        "id": "hr457Ac8I125",
        "outputId": "4df1ad07-f732-4fa0-9cdf-a7df02e1281a"
      },
      "execution_count": null,
      "outputs": [
        {
          "output_type": "stream",
          "name": "stdout",
          "text": [
            "\n",
            " Phase Flip Code\n",
            "----------------\n",
            "With initial state |1>\n",
            "\n",
            "Phase flip code with error\n",
            "----------------------\n",
            "{'1': 1024}\n",
            "\n",
            "Phase flip code without error\n",
            "----------------------\n",
            "{'1': 1024}\n",
            "\n",
            "With initial state |0>\n",
            "\n",
            "Phase flip code with error\n",
            "----------------------\n",
            "{'0': 1024}\n",
            "\n",
            "Phase flip code without error\n",
            "----------------------\n",
            "{'0': 1024}\n"
          ]
        }
      ]
    },
    {
      "cell_type": "markdown",
      "source": [
        "Referencias:\n",
        "\n",
        "Para usar simulador y la versión más reciente de qiskit se utilizó y actualizó el código disponible en las páginas\n",
        "*   https://quantumcomputinguk.org/tutorials/quantum-error-correction-bit-flip-code-in-qiskit\n",
        "\n",
        "*   https://quantumcomputinguk.org/tutorials/quantum-error-correction-phase-flip-code-in-qiskit\n",
        "\n"
      ],
      "metadata": {
        "id": "UeZqq6-rzWmy"
      }
    }
  ]
}